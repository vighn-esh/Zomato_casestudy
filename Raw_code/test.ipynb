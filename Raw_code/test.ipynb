{
 "cells": [
  {
   "cell_type": "code",
   "execution_count": 17,
   "metadata": {},
   "outputs": [
    {
     "name": "stdout",
     "output_type": "stream",
     "text": [
      "Total rows in restaurant_dimension_table: 107380\n",
      "Total rows in fact_table: 107380\n"
     ]
    }
   ],
   "source": [
    "import sqlalchemy\n",
    "import pandas as pd\n",
    "from sqlalchemy import text\n",
    "\n",
    "# Path to the SQLite database\n",
    "sqlite_db_path = \"Main_DB/zomato_DB.sqlite\"\n",
    "engine = sqlalchemy.create_engine(f'sqlite:///{sqlite_db_path}')\n",
    "\n",
    "def count_rows_in_table(engine, table_name):\n",
    "    with engine.connect() as conn:\n",
    "        result = conn.execute(text(f\"SELECT COUNT(*) FROM {table_name}\"))\n",
    "        row_count = result.fetchone()[0]\n",
    "        print(f\"Total rows in {table_name}: {row_count}\")\n",
    "\n",
    "def save_table_to_csv(engine, table_name, output_file):\n",
    "    with engine.connect() as conn:\n",
    "        df = pd.read_sql(f\"SELECT * FROM {table_name}\", conn)\n",
    "        df.to_csv(output_file, index=False)\n",
    "        print(f\"Table {table_name} saved to {output_file}\")\n",
    "\n",
    "# Count rows\n",
    "count_rows_in_table(engine, 'restaurant_dimension_table')\n",
    "count_rows_in_table(engine, 'location_dimension_table')\n",
    "count_rows_in_table(engine, 'fact_table')\n",
    "\n",
    "# Save tables to CSV files\n",
    "save_table_to_csv(engine, 'restaurant_dimension_table', 'restaurant_dimension_table.csv')\n",
    "save_table_to_csv(engine, 'fact_table', 'fact_table.csv')\n"
   ]
  }
 ],
 "metadata": {
  "kernelspec": {
   "display_name": "Python 3",
   "language": "python",
   "name": "python3"
  },
  "language_info": {
   "codemirror_mode": {
    "name": "ipython",
    "version": 3
   },
   "file_extension": ".py",
   "mimetype": "text/x-python",
   "name": "python",
   "nbconvert_exporter": "python",
   "pygments_lexer": "ipython3",
   "version": "3.11.8"
  }
 },
 "nbformat": 4,
 "nbformat_minor": 2
}
