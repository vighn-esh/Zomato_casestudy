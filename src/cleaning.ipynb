{
 "cells": [
  {
   "cell_type": "code",
   "execution_count": 1,
   "metadata": {},
   "outputs": [],
   "source": [
    "import pandas as pd\n",
    "import os\n",
    "\n",
    "\n",
    "\n",
    "df = pd.read_csv(\"../data/combined_data.csv\")\n",
    "\n"
   ]
  },
  {
   "cell_type": "code",
   "execution_count": 2,
   "metadata": {},
   "outputs": [
    {
     "data": {
      "text/plain": [
       "(105623, 12)"
      ]
     },
     "execution_count": 2,
     "metadata": {},
     "output_type": "execute_result"
    }
   ],
   "source": [
    "df.shape"
   ]
  },
  {
   "cell_type": "code",
   "execution_count": 3,
   "metadata": {},
   "outputs": [
    {
     "data": {
      "text/plain": [
       "Index(['NAME', 'PRICE', 'CUSINE_CATEGORY', 'CITY', 'REGION', 'URL', 'PAGE NO',\n",
       "       'CUSINE TYPE', 'TIMING', 'RATING_TYPE', 'RATING', 'VOTES'],\n",
       "      dtype='object')"
      ]
     },
     "execution_count": 3,
     "metadata": {},
     "output_type": "execute_result"
    }
   ],
   "source": [
    "df.columns"
   ]
  },
  {
   "cell_type": "code",
   "execution_count": 4,
   "metadata": {},
   "outputs": [
    {
     "data": {
      "text/plain": [
       "NAME                   0\n",
       "PRICE                  0\n",
       "CUSINE_CATEGORY       65\n",
       "CITY                   0\n",
       "REGION                 0\n",
       "URL                    0\n",
       "PAGE NO                0\n",
       "CUSINE TYPE            0\n",
       "TIMING               641\n",
       "RATING_TYPE        10538\n",
       "RATING                 0\n",
       "VOTES                  0\n",
       "dtype: int64"
      ]
     },
     "execution_count": 4,
     "metadata": {},
     "output_type": "execute_result"
    }
   ],
   "source": [
    "df.isna().sum()"
   ]
  },
  {
   "cell_type": "code",
   "execution_count": 5,
   "metadata": {},
   "outputs": [
    {
     "data": {
      "text/html": [
       "<div>\n",
       "<style scoped>\n",
       "    .dataframe tbody tr th:only-of-type {\n",
       "        vertical-align: middle;\n",
       "    }\n",
       "\n",
       "    .dataframe tbody tr th {\n",
       "        vertical-align: top;\n",
       "    }\n",
       "\n",
       "    .dataframe thead th {\n",
       "        text-align: right;\n",
       "    }\n",
       "</style>\n",
       "<table border=\"1\" class=\"dataframe\">\n",
       "  <thead>\n",
       "    <tr style=\"text-align: right;\">\n",
       "      <th></th>\n",
       "      <th>NAME</th>\n",
       "      <th>PRICE</th>\n",
       "      <th>CUSINE_CATEGORY</th>\n",
       "      <th>CITY</th>\n",
       "      <th>REGION</th>\n",
       "      <th>URL</th>\n",
       "      <th>PAGE NO</th>\n",
       "      <th>CUSINE TYPE</th>\n",
       "      <th>TIMING</th>\n",
       "      <th>RATING_TYPE</th>\n",
       "      <th>RATING</th>\n",
       "      <th>VOTES</th>\n",
       "    </tr>\n",
       "  </thead>\n",
       "  <tbody>\n",
       "    <tr>\n",
       "      <th>0</th>\n",
       "      <td>The Salt Cafe Kitchen &amp; Bar</td>\n",
       "      <td>1000</td>\n",
       "      <td>North Indian,Continental,Italian</td>\n",
       "      <td>Agra</td>\n",
       "      <td>Tajganj</td>\n",
       "      <td>https://www.zomato.com/agra/the-salt-cafe-kitc...</td>\n",
       "      <td>1</td>\n",
       "      <td>Casual Dining</td>\n",
       "      <td>1130am to 1130pm(Mon-Sun)</td>\n",
       "      <td>Excellent</td>\n",
       "      <td>4.8</td>\n",
       "      <td>273</td>\n",
       "    </tr>\n",
       "    <tr>\n",
       "      <th>1</th>\n",
       "      <td>Bhagat Halwai</td>\n",
       "      <td>300</td>\n",
       "      <td>Desserts,Bakery,Fast Food,South Indian</td>\n",
       "      <td>Agra</td>\n",
       "      <td>Civil Lines</td>\n",
       "      <td>https://www.zomato.com/agra/bhagat-halwai-civi...</td>\n",
       "      <td>1</td>\n",
       "      <td>Quick Bites</td>\n",
       "      <td>730am to 11pm(Mon-Sun)</td>\n",
       "      <td>Very Good</td>\n",
       "      <td>4.3</td>\n",
       "      <td>554</td>\n",
       "    </tr>\n",
       "    <tr>\n",
       "      <th>2</th>\n",
       "      <td>Bikanervala</td>\n",
       "      <td>700</td>\n",
       "      <td>North Indian,South Indian,Mithai,Street Food,D...</td>\n",
       "      <td>Agra</td>\n",
       "      <td>Khandari</td>\n",
       "      <td>https://www.zomato.com/agra/bikanervala-khanda...</td>\n",
       "      <td>1</td>\n",
       "      <td>Quick Bites</td>\n",
       "      <td>8am to 11pm(Mon-Sun)</td>\n",
       "      <td>Very Good</td>\n",
       "      <td>4.4</td>\n",
       "      <td>645</td>\n",
       "    </tr>\n",
       "    <tr>\n",
       "      <th>3</th>\n",
       "      <td>Mama Chicken Mama Franky House</td>\n",
       "      <td>600</td>\n",
       "      <td>North Indian,Mughlai,Rolls,Chinese,Fast Food,S...</td>\n",
       "      <td>Agra</td>\n",
       "      <td>Agra Cantt</td>\n",
       "      <td>https://www.zomato.com/agra/mama-chicken-mama-...</td>\n",
       "      <td>1</td>\n",
       "      <td>Quick Bites</td>\n",
       "      <td>1230pm to 12midnight(Mon,Wed,Thu,Fri,Sat...</td>\n",
       "      <td>Very Good</td>\n",
       "      <td>4.3</td>\n",
       "      <td>894</td>\n",
       "    </tr>\n",
       "    <tr>\n",
       "      <th>4</th>\n",
       "      <td>Honeydew Restaurant</td>\n",
       "      <td>500</td>\n",
       "      <td>North Indian,Fast Food,Chinese,South Indian</td>\n",
       "      <td>Agra</td>\n",
       "      <td>Dayal Bagh</td>\n",
       "      <td>https://www.zomato.com/agra/honeydew-restauran...</td>\n",
       "      <td>1</td>\n",
       "      <td>Quick Bites</td>\n",
       "      <td>11am to 1035pm(Mon,Tue,Wed,Fri,Sat),11am to ...</td>\n",
       "      <td>Very Good</td>\n",
       "      <td>4.1</td>\n",
       "      <td>489</td>\n",
       "    </tr>\n",
       "  </tbody>\n",
       "</table>\n",
       "</div>"
      ],
      "text/plain": [
       "                             NAME  PRICE  \\\n",
       "0     The Salt Cafe Kitchen & Bar   1000   \n",
       "1                   Bhagat Halwai    300   \n",
       "2                     Bikanervala    700   \n",
       "3  Mama Chicken Mama Franky House    600   \n",
       "4             Honeydew Restaurant    500   \n",
       "\n",
       "                                     CUSINE_CATEGORY  CITY       REGION  \\\n",
       "0                   North Indian,Continental,Italian  Agra      Tajganj   \n",
       "1             Desserts,Bakery,Fast Food,South Indian  Agra  Civil Lines   \n",
       "2  North Indian,South Indian,Mithai,Street Food,D...  Agra     Khandari   \n",
       "3  North Indian,Mughlai,Rolls,Chinese,Fast Food,S...  Agra   Agra Cantt   \n",
       "4        North Indian,Fast Food,Chinese,South Indian  Agra   Dayal Bagh   \n",
       "\n",
       "                                                 URL  PAGE NO    CUSINE TYPE  \\\n",
       "0  https://www.zomato.com/agra/the-salt-cafe-kitc...        1  Casual Dining   \n",
       "1  https://www.zomato.com/agra/bhagat-halwai-civi...        1    Quick Bites   \n",
       "2  https://www.zomato.com/agra/bikanervala-khanda...        1    Quick Bites   \n",
       "3  https://www.zomato.com/agra/mama-chicken-mama-...        1    Quick Bites   \n",
       "4  https://www.zomato.com/agra/honeydew-restauran...        1    Quick Bites   \n",
       "\n",
       "                                            TIMING RATING_TYPE RATING VOTES  \n",
       "0                        1130am to 1130pm(Mon-Sun)   Excellent    4.8   273  \n",
       "1                           730am to 11pm(Mon-Sun)   Very Good    4.3   554  \n",
       "2                             8am to 11pm(Mon-Sun)   Very Good    4.4   645  \n",
       "3      1230pm to 12midnight(Mon,Wed,Thu,Fri,Sat...   Very Good    4.3   894  \n",
       "4  11am to 1035pm(Mon,Tue,Wed,Fri,Sat),11am to ...   Very Good    4.1   489  "
      ]
     },
     "execution_count": 5,
     "metadata": {},
     "output_type": "execute_result"
    }
   ],
   "source": [
    "df.head()"
   ]
  },
  {
   "cell_type": "code",
   "execution_count": 6,
   "metadata": {},
   "outputs": [
    {
     "data": {
      "text/html": [
       "<div>\n",
       "<style scoped>\n",
       "    .dataframe tbody tr th:only-of-type {\n",
       "        vertical-align: middle;\n",
       "    }\n",
       "\n",
       "    .dataframe tbody tr th {\n",
       "        vertical-align: top;\n",
       "    }\n",
       "\n",
       "    .dataframe thead th {\n",
       "        text-align: right;\n",
       "    }\n",
       "</style>\n",
       "<table border=\"1\" class=\"dataframe\">\n",
       "  <thead>\n",
       "    <tr style=\"text-align: right;\">\n",
       "      <th></th>\n",
       "      <th>index</th>\n",
       "      <th>data_type</th>\n",
       "      <th>unique_records</th>\n",
       "    </tr>\n",
       "  </thead>\n",
       "  <tbody>\n",
       "    <tr>\n",
       "      <th>0</th>\n",
       "      <td>NAME</td>\n",
       "      <td>object</td>\n",
       "      <td>84630</td>\n",
       "    </tr>\n",
       "    <tr>\n",
       "      <th>1</th>\n",
       "      <td>PRICE</td>\n",
       "      <td>int64</td>\n",
       "      <td>135</td>\n",
       "    </tr>\n",
       "    <tr>\n",
       "      <th>2</th>\n",
       "      <td>CUSINE_CATEGORY</td>\n",
       "      <td>object</td>\n",
       "      <td>13265</td>\n",
       "    </tr>\n",
       "    <tr>\n",
       "      <th>3</th>\n",
       "      <td>CITY</td>\n",
       "      <td>object</td>\n",
       "      <td>81</td>\n",
       "    </tr>\n",
       "    <tr>\n",
       "      <th>4</th>\n",
       "      <td>REGION</td>\n",
       "      <td>object</td>\n",
       "      <td>3382</td>\n",
       "    </tr>\n",
       "    <tr>\n",
       "      <th>5</th>\n",
       "      <td>URL</td>\n",
       "      <td>object</td>\n",
       "      <td>103132</td>\n",
       "    </tr>\n",
       "    <tr>\n",
       "      <th>6</th>\n",
       "      <td>PAGE NO</td>\n",
       "      <td>int64</td>\n",
       "      <td>1308</td>\n",
       "    </tr>\n",
       "    <tr>\n",
       "      <th>7</th>\n",
       "      <td>CUSINE TYPE</td>\n",
       "      <td>object</td>\n",
       "      <td>26</td>\n",
       "    </tr>\n",
       "    <tr>\n",
       "      <th>8</th>\n",
       "      <td>TIMING</td>\n",
       "      <td>object</td>\n",
       "      <td>9721</td>\n",
       "    </tr>\n",
       "    <tr>\n",
       "      <th>9</th>\n",
       "      <td>RATING_TYPE</td>\n",
       "      <td>object</td>\n",
       "      <td>38</td>\n",
       "    </tr>\n",
       "    <tr>\n",
       "      <th>10</th>\n",
       "      <td>RATING</td>\n",
       "      <td>object</td>\n",
       "      <td>35</td>\n",
       "    </tr>\n",
       "    <tr>\n",
       "      <th>11</th>\n",
       "      <td>VOTES</td>\n",
       "      <td>object</td>\n",
       "      <td>2108</td>\n",
       "    </tr>\n",
       "  </tbody>\n",
       "</table>\n",
       "</div>"
      ],
      "text/plain": [
       "              index data_type  unique_records\n",
       "0              NAME    object           84630\n",
       "1             PRICE     int64             135\n",
       "2   CUSINE_CATEGORY    object           13265\n",
       "3              CITY    object              81\n",
       "4            REGION    object            3382\n",
       "5               URL    object          103132\n",
       "6           PAGE NO     int64            1308\n",
       "7       CUSINE TYPE    object              26\n",
       "8            TIMING    object            9721\n",
       "9       RATING_TYPE    object              38\n",
       "10           RATING    object              35\n",
       "11            VOTES    object            2108"
      ]
     },
     "execution_count": 6,
     "metadata": {},
     "output_type": "execute_result"
    }
   ],
   "source": [
    "temp_pd = pd.DataFrame(df.dtypes, columns = ['data_type']).reset_index()\n",
    "unique_records = pd.DataFrame(df.nunique(), columns = ['unique_records']).reset_index()\n",
    "meta_df = pd.merge(temp_pd, unique_records, on = 'index')\n",
    "meta_df"
   ]
  },
  {
   "cell_type": "code",
   "execution_count": 7,
   "metadata": {},
   "outputs": [
    {
     "name": "stdout",
     "output_type": "stream",
     "text": [
      "Total rows repeating: 0\n"
     ]
    }
   ],
   "source": [
    "#checking for duplicate Rows?\n",
    "print('Total rows repeating:', sum(df.duplicated()))"
   ]
  },
  {
   "cell_type": "code",
   "execution_count": 8,
   "metadata": {},
   "outputs": [],
   "source": [
    "def convert_object_to_numeric(df):\n",
    "    for column in df.select_dtypes(include='object').columns:\n",
    "        # Try converting to integers first\n",
    "        try:\n",
    "            # Attempt to convert to integer\n",
    "            df[column] = pd.to_numeric(df[column], errors='raise', downcast='integer')\n",
    "            print(f\"Converted {column} to integer type.\")\n",
    "        except (ValueError, TypeError):\n",
    "            # If integer conversion fails, try float conversion\n",
    "            try:\n",
    "                # Attempt to convert to float\n",
    "                df[column] = pd.to_numeric(df[column], errors='raise')\n",
    "                df[column] = df[column].astype(float)  # Ensure it is float\n",
    "                print(f\"Converted {column} to float type.\")\n",
    "            except (ValueError, TypeError):\n",
    "                # If both conversions fail, leave as object\n",
    "                print(f\"Left {column} as object type.\")\n",
    "    \n",
    "    return df"
   ]
  },
  {
   "cell_type": "code",
   "execution_count": 9,
   "metadata": {},
   "outputs": [
    {
     "name": "stdout",
     "output_type": "stream",
     "text": [
      "Left NAME as object type.\n",
      "Left CUSINE_CATEGORY as object type.\n",
      "Left CITY as object type.\n",
      "Left REGION as object type.\n",
      "Left URL as object type.\n",
      "Left CUSINE TYPE as object type.\n",
      "Left TIMING as object type.\n",
      "Left RATING_TYPE as object type.\n",
      "Left RATING as object type.\n",
      "Left VOTES as object type.\n"
     ]
    }
   ],
   "source": [
    "converted_df = convert_object_to_numeric(df)"
   ]
  },
  {
   "cell_type": "code",
   "execution_count": 10,
   "metadata": {},
   "outputs": [
    {
     "name": "stdout",
     "output_type": "stream",
     "text": [
      "Unique values in RATING before cleaning:\n",
      "['4.8' '4.3' '4.4' '4.1' '4.7' '3.9' '4.5' '4.0' '3.8' '3.5' '3.7' '3.4'\n",
      " '3.6' '2.4' '2.8' 'NEW' '3.0' '3.1' '3.2' '-' '3.3' '2.7' '2.5' '2.9'\n",
      " '4.2' '4.6' 'Opening' '2.3' '2.6' '4.9' '2.1' '2.2' '2.0' 'Temporarily'\n",
      " '1.8']\n",
      "Unique values in RATING after cleaning:\n",
      "[4.8 4.3 4.4 4.1 4.7 3.9 4.5 4.  3.8 3.5 3.7 3.4 3.6 2.4 2.8 nan 3.  3.1\n",
      " 3.2 3.3 2.7 2.5 2.9 4.2 4.6 2.3 2.6 4.9 2.1 2.2 2.  1.8]\n"
     ]
    }
   ],
   "source": [
    "import pandas as pd\n",
    "\n",
    "def inspect_and_clean_column(df, column_name):\n",
    "    # Inspect unique values to check if there are any non-numeric values\n",
    "    unique_values = df[column_name].unique()\n",
    "    print(f\"Unique values in {column_name} before cleaning:\")\n",
    "    print(unique_values)\n",
    "    \n",
    "    # Remove leading/trailing spaces and replace non-numeric values like 'N/A', 'Not Rated' with NaN\n",
    "    df[column_name] = df[column_name].str.strip()  # Remove any leading/trailing spaces\n",
    "    df[column_name] = pd.to_numeric(df[column_name], errors='coerce')  # Convert to numeric, set non-convertible to NaN\n",
    "    \n",
    "    print(f\"Unique values in {column_name} after cleaning:\")\n",
    "    print(df[column_name].unique())\n",
    "    \n",
    "    return df\n",
    "df=inspect_and_clean_column(df,\"RATING\")"
   ]
  },
  {
   "cell_type": "code",
   "execution_count": 11,
   "metadata": {},
   "outputs": [
    {
     "data": {
      "text/plain": [
       "dtype('float64')"
      ]
     },
     "execution_count": 11,
     "metadata": {},
     "output_type": "execute_result"
    }
   ],
   "source": [
    "df[\"RATING\"].dtype\n"
   ]
  },
  {
   "cell_type": "code",
   "execution_count": 12,
   "metadata": {},
   "outputs": [],
   "source": [
    "df = df.reset_index()\n",
    "df = df.drop(columns=['URL',\"PAGE NO\"],)\n",
    "\n",
    "\n",
    "\n",
    "#adding index column\n"
   ]
  },
  {
   "cell_type": "code",
   "execution_count": 17,
   "metadata": {},
   "outputs": [
    {
     "data": {
      "text/plain": [
       "<bound method NDFrame.head of          index                            NAME  PRICE  \\\n",
       "0            0     The Salt Cafe Kitchen & Bar   1000   \n",
       "1            1                   Bhagat Halwai    300   \n",
       "2            2                     Bikanervala    700   \n",
       "3            3  Mama Chicken Mama Franky House    600   \n",
       "4            4             Honeydew Restaurant    500   \n",
       "...        ...                             ...    ...   \n",
       "105618  105618      Sizzlers Family Restaurant    800   \n",
       "105619  105619                         Dharani    800   \n",
       "105620  105620    Sai Siddhartha Biryani House    400   \n",
       "105621  105621                  Spicy Paradise    600   \n",
       "105622  105622                       4 Seasons    550   \n",
       "\n",
       "                                          CUSINE_CATEGORY           CITY  \\\n",
       "0                        North Indian,Continental,Italian           Agra   \n",
       "1                  Desserts,Bakery,Fast Food,South Indian           Agra   \n",
       "2       North Indian,South Indian,Mithai,Street Food,D...           Agra   \n",
       "3       North Indian,Mughlai,Rolls,Chinese,Fast Food,S...           Agra   \n",
       "4             North Indian,Fast Food,Chinese,South Indian           Agra   \n",
       "...                                                   ...            ...   \n",
       "105618                Andhra,Chinese,North Indian,Biryani  Visakhapatnam   \n",
       "105619                          South Indian,North Indian  Visakhapatnam   \n",
       "105620                                     Biryani,Andhra  Visakhapatnam   \n",
       "105621          South Indian,North Indian,Chinese,Biryani  Visakhapatnam   \n",
       "105622          Bakery,Desserts,Fast Food,Biryani,Chinese  Visakhapatnam   \n",
       "\n",
       "                             REGION     CUSINETYPE  \\\n",
       "0                           Tajganj  Casual Dining   \n",
       "1                       Civil Lines    Quick Bites   \n",
       "2                          Khandari    Quick Bites   \n",
       "3                        Agra Cantt    Quick Bites   \n",
       "4                        Dayal Bagh    Quick Bites   \n",
       "...                             ...            ...   \n",
       "105618                   MVP Colony    Quick Bites   \n",
       "105619  Hotel Daspalla-- Surya Bagh  Casual Dining   \n",
       "105620                Maharani Peta    Quick Bites   \n",
       "105621           Jagadamba Junction  Casual Dining   \n",
       "105622                    Asilmetta    Quick Bites   \n",
       "\n",
       "                                                 TIMING RATING_TYPE  RATING  \\\n",
       "0                             1130am to 1130pm(Mon-Sun)   Excellent     4.8   \n",
       "1                                730am to 11pm(Mon-Sun)   Very Good     4.3   \n",
       "2                                  8am to 11pm(Mon-Sun)   Very Good     4.4   \n",
       "3           1230pm to 12midnight(Mon,Wed,Thu,Fri,Sat...   Very Good     4.3   \n",
       "4       11am to 1035pm(Mon,Tue,Wed,Fri,Sat),11am to ...   Very Good     4.1   \n",
       "...                                                 ...         ...     ...   \n",
       "105618           1030am to 3pm,630pm to 1030pm(Mon-Sun)        Good     3.8   \n",
       "105619                             6am to 11pm(Mon-Sun)   Very Good     4.1   \n",
       "105620               11am to 4pm,630pm to 11pm(Mon-Sun)        Good     3.8   \n",
       "105621                          1030am to 11pm(Mon-Sun)        Good     3.9   \n",
       "105622                            10am to 10pm(Mon-Sun)        Good     3.7   \n",
       "\n",
       "       VOTES  \n",
       "0        273  \n",
       "1        554  \n",
       "2        645  \n",
       "3        894  \n",
       "4        489  \n",
       "...      ...  \n",
       "105618   210  \n",
       "105619   131  \n",
       "105620    97  \n",
       "105621   132  \n",
       "105622   219  \n",
       "\n",
       "[105623 rows x 11 columns]>"
      ]
     },
     "execution_count": 17,
     "metadata": {},
     "output_type": "execute_result"
    }
   ],
   "source": [
    "df.head"
   ]
  },
  {
   "cell_type": "code",
   "execution_count": 13,
   "metadata": {},
   "outputs": [],
   "source": [
    "import logging\n",
    "\n",
    "# Set up logging configuration\n",
    "logging.basicConfig(level=logging.DEBUG, format='%(asctime)s - %(levelname)s - %(message)s')\n",
    "\n",
    "# Log to a file (optional)\n",
    "# logging.basicConfig(filename='debug.log', level=logging.DEBUG, format='%(asctime)s - %(levelname)s - %(message)s')\n",
    "\n",
    "def log_dataframe_info(df):\n",
    "    '''Log information about the DataFrame'''\n",
    "    logging.debug(f\"DataFrame shape: {df.shape}\")\n",
    "    logging.debug(f\"DataFrame columns: {df.columns}\")\n",
    "    for col in df.columns:\n",
    "        logging.debug(f\"Column: {col}, Data Type: {df[col].dtype}\")\n"
   ]
  },
  {
   "cell_type": "code",
   "execution_count": 14,
   "metadata": {},
   "outputs": [
    {
     "name": "stdout",
     "output_type": "stream",
     "text": [
      "\n",
      " CREATE TABLE IF NOT EXISTS staging_data (key_pk INTEGER PRIMARY KEY, index INTEGER, NAME TEXT, PRICE INTEGER, CUSINE_CATEGORY TEXT, CITY TEXT, REGION TEXT, CUSINETYPE TEXT, TIMING TEXT, RATING_TYPE TEXT, RATING REAL, VOTES TEXT) \n",
      "\n",
      "Could not create schema, check SQL again: near \"index\": syntax error\n",
      "(105623, 11)\n"
     ]
    }
   ],
   "source": [
    "import pandas as pd\n",
    "import sqlalchemy\n",
    "\n",
    "# Set up SQLite connection\n",
    "sqlite_db_path = '../DB/NEWDB/zomato_db.sqlite'\n",
    "engine = sqlalchemy.create_engine(f'sqlite:///{sqlite_db_path}')\n",
    "sql_table_name = 'staging_data'\n",
    "initial_sql = f\"CREATE TABLE IF NOT EXISTS {sql_table_name} (key_pk INTEGER PRIMARY KEY\"\n",
    "\n",
    "def rename_df_cols(df):\n",
    "    '''Input a dataframe, outputs same dataframe with No Space in column names'''\n",
    "    col_no_space = dict((i, i.replace(' ','')) for i in list(df.columns))\n",
    "    df.rename(columns=col_no_space, inplace=True)\n",
    "    return df\n",
    "\n",
    "def dtype_mapping():\n",
    "    '''Returns a dict to refer correct data type for SQLite'''\n",
    "    return {\n",
    "        'object': 'TEXT',\n",
    "        'int64': 'INTEGER',\n",
    "        'float64': 'REAL',\n",
    "        'datetime64[ns]': 'TEXT',\n",
    "        'bool': 'INTEGER',\n",
    "        'category': 'TEXT',\n",
    "        'timedelta[ns]': 'TEXT'\n",
    "    }\n",
    "\n",
    "def create_sql(engine, df, sql=initial_sql):\n",
    "    '''Input engine: connection for SQLite, df: dataframe to create schema for,\n",
    "       Outputs SQLite schema creation'''\n",
    "    \n",
    "    # Rename columns to avoid conflicts\n",
    "    df = rename_df_cols(df)\n",
    "    \n",
    "    # Convert column names into a list to avoid potential issues with column indexing\n",
    "    column_list = list(df.columns)\n",
    "    \n",
    "    # Get the data types of the columns\n",
    "    col_list_dtype = [(col_name, df[col_name].dtype) for col_name in column_list]\n",
    "\n",
    "    map_data = dtype_mapping()\n",
    "\n",
    "    for col_name, dtype in col_list_dtype:\n",
    "        # Convert dtype to string and map it to the correct SQLite data type\n",
    "        dtype_str = str(dtype)\n",
    "        sql += f\", {col_name} {map_data.get(dtype_str, 'TEXT')}\"  # Default to TEXT if not found in map\n",
    "    \n",
    "    sql = sql + ')'\n",
    "    \n",
    "    print('\\n', sql, '\\n')\n",
    "    \n",
    "    try:\n",
    "        conn = engine.raw_connection()\n",
    "    except ValueError:\n",
    "        print('You have connection problems with SQLite, check engine parameters')\n",
    "    \n",
    "    cur = conn.cursor()\n",
    "    \n",
    "    try:\n",
    "        cur.execute(sql)\n",
    "    except Exception as e:\n",
    "        print(f\"Could not create schema, check SQL again: {e}\")\n",
    "    \n",
    "    cur.close()\n",
    "\n",
    "# Assuming you already have a DataFrame `df`\n",
    "# Create schema based on the DataFrame\n",
    "create_sql(engine, df=df)\n",
    "\n",
    "# Write DataFrame to SQLite table\n",
    "df.to_sql(sql_table_name, con=engine, if_exists='append', index=False)\n",
    "\n",
    "# Check DataFrame shape\n",
    "print(df.shape)\n"
   ]
  },
  {
   "cell_type": "code",
   "execution_count": 16,
   "metadata": {},
   "outputs": [
    {
     "name": "stdout",
     "output_type": "stream",
     "text": [
      "   index                            NAME  PRICE  \\\n",
      "0      0     The Salt Cafe Kitchen & Bar   1000   \n",
      "1      1                   Bhagat Halwai    300   \n",
      "2      2                     Bikanervala    700   \n",
      "3      3  Mama Chicken Mama Franky House    600   \n",
      "4      4             Honeydew Restaurant    500   \n",
      "5      5          Cafe Turquoise Cottage   1600   \n",
      "6      6                         Hichkee   1200   \n",
      "7      7                  Domino's Pizza    700   \n",
      "8      8                      Urban Deck   1000   \n",
      "9      9                  Pinch Of Spice   1600   \n",
      "\n",
      "                                     CUSINE_CATEGORY  CITY       REGION  \\\n",
      "0                   North Indian,Continental,Italian  Agra      Tajganj   \n",
      "1             Desserts,Bakery,Fast Food,South Indian  Agra  Civil Lines   \n",
      "2  North Indian,South Indian,Mithai,Street Food,D...  Agra     Khandari   \n",
      "3  North Indian,Mughlai,Rolls,Chinese,Fast Food,S...  Agra   Agra Cantt   \n",
      "4        North Indian,Fast Food,Chinese,South Indian  Agra   Dayal Bagh   \n",
      "5     North Indian,Chinese,Continental,Italian,Pizza  Agra      Tajganj   \n",
      "6                   Continental,North Indian,Chinese  Agra  Civil Lines   \n",
      "7                                    Pizza,Fast Food  Agra  Civil Lines   \n",
      "8                       Mexican,Italian,North Indian  Agra     Khandari   \n",
      "9                       North Indian,Chinese,Mughlai  Agra  Civil Lines   \n",
      "\n",
      "      CUSINETYPE                                           TIMING RATING_TYPE  \\\n",
      "0  Casual Dining                        1130am to 1130pm(Mon-Sun)   Excellent   \n",
      "1    Quick Bites                           730am to 11pm(Mon-Sun)   Very Good   \n",
      "2    Quick Bites                             8am to 11pm(Mon-Sun)   Very Good   \n",
      "3    Quick Bites      1230pm to 12midnight(Mon,Wed,Thu,Fri,Sat...   Very Good   \n",
      "4    Quick Bites  11am to 1035pm(Mon,Tue,Wed,Fri,Sat),11am to ...   Very Good   \n",
      "5  Casual Dining                        12noon to 1155pm(Mon-Sun)   Excellent   \n",
      "6  Casual Dining                              4pm to 1am(Mon-Sun)   Very Good   \n",
      "7    Quick Bites                            11am to 11pm(Mon-Sun)        Good   \n",
      "8  Casual Dining                       1pm to 12midnight(Mon-Sun)   Very Good   \n",
      "9  Casual Dining             12noon to 4pm,7pm to 1130pm(Mon-Sun)   Excellent   \n",
      "\n",
      "   RATING VOTES  \n",
      "0     4.8   273  \n",
      "1     4.3   554  \n",
      "2     4.4   645  \n",
      "3     4.3   894  \n",
      "4     4.1   489  \n",
      "5     4.7   294  \n",
      "6     4.4   581  \n",
      "7     3.9   583  \n",
      "8     4.3   608  \n",
      "9     4.5   863  \n"
     ]
    }
   ],
   "source": [
    "import pandas as pd\n",
    "import sqlalchemy\n",
    "\n",
    "\n",
    "\n",
    "# Set up SQLite connection\n",
    "sqlite_db_path = '../DB/NEWDB/zomato_db.sqlite'\n",
    "engine = sqlalchemy.create_engine(f'sqlite:///{sqlite_db_path}')\n",
    "\n",
    "# Define the SQL query to select the first 10 rows from the staging_data table\n",
    "select_query = \"SELECT * FROM staging_data LIMIT 10\"\n",
    "\n",
    "# Execute the query and load the results into a DataFrame\n",
    "df_first_10_rows = pd.read_sql_query(select_query, con=engine)\n",
    "\n",
    "# Display the first 10 rows\n",
    "print(df_first_10_rows)\n"
   ]
  },
  {
   "cell_type": "code",
   "execution_count": null,
   "metadata": {},
   "outputs": [],
   "source": []
  }
 ],
 "metadata": {
  "kernelspec": {
   "display_name": "Python 3",
   "language": "python",
   "name": "python3"
  },
  "language_info": {
   "codemirror_mode": {
    "name": "ipython",
    "version": 3
   },
   "file_extension": ".py",
   "mimetype": "text/x-python",
   "name": "python",
   "nbconvert_exporter": "python",
   "pygments_lexer": "ipython3",
   "version": "3.11.8"
  }
 },
 "nbformat": 4,
 "nbformat_minor": 2
}
